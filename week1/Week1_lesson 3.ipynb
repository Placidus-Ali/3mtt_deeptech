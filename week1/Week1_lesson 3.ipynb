{
 "cells": [
  {
   "cell_type": "markdown",
   "id": "644f9ebc-f9c0-44ea-a7c6-aca3f00aced9",
   "metadata": {},
   "source": [
    "#### Week1 lesson 3"
   ]
  },
  {
   "cell_type": "markdown",
   "id": "cf177621-991e-4b07-a4d3-4e6b40d9dfaa",
   "metadata": {},
   "source": [
    "### Install Anaconda"
   ]
  },
  {
   "cell_type": "markdown",
   "id": "5f2f7693-f898-49fb-919d-651d50ec91db",
   "metadata": {},
   "source": [
    "### List\n",
    "A list is an ordered collection of items that can be changed (mutable). Lists can contain items of different data types.\n"
   ]
  },
  {
   "cell_type": "code",
   "execution_count": 7,
   "id": "7a4f828e-b8ae-43aa-bb3c-aa7e43ecccbc",
   "metadata": {},
   "outputs": [],
   "source": [
    "my_list = [1, 2, 3, \"apple\", 4, 5]\n",
    "print(my_list)"
   ]
  },
  {
   "cell_type": "code",
   "execution_count": 3,
   "id": "336d5253-4a79-4ceb-902e-1bd534de18b5",
   "metadata": {},
   "outputs": [],
   "source": [
    "#Replace an item\n",
    "my_list[2] = \"man\"\n",
    "print(list)"
   ]
  },
  {
   "cell_type": "code",
   "execution_count": 13,
   "id": "31f9e5f7-f663-4565-a5d4-39d394b285a9",
   "metadata": {},
   "outputs": [],
   "source": [
    "#Add an item - you can use Append or Insert. Append will add the item at the end while insert can add at any specific place.\n",
    "my_list.append(\"woman\")\n",
    "print(my_list)"
   ]
  },
  {
   "cell_type": "code",
   "execution_count": 17,
   "id": "71bae9b5-d916-49f9-a94f-47cd1ef7c7b2",
   "metadata": {},
   "outputs": [],
   "source": [
    "my_list.insert(2, \"friend\")\n",
    "print(my_list)"
   ]
  },
  {
   "cell_type": "code",
   "execution_count": 21,
   "id": "483d39d2-f315-40fa-a420-2019f38f22d4",
   "metadata": {},
   "outputs": [],
   "source": [
    "#Remove an item - remove is used to remove a particular item by typing the item\n",
    "my_list.remove(\"friend\")\n",
    "print(my_list)"
   ]
  },
  {
   "cell_type": "code",
   "execution_count": 25,
   "id": "9140c0ab-c0a3-46ae-bc55-64f1608b2912",
   "metadata": {},
   "outputs": [],
   "source": [
    "#Delete an item - delete is used to delete a particular item by typing the index of that item\n",
    "del my_list[2]\n",
    "print(my_list)"
   ]
  },
  {
   "cell_type": "code",
   "execution_count": 29,
   "id": "b350a413-ce63-41d6-87b9-297ddda90b91",
   "metadata": {},
   "outputs": [],
   "source": [
    "#Reverse - it is used to flip or rearrange the items in the box\n",
    "my_list.reverse()\n",
    "print(my_list)"
   ]
  },
  {
   "cell_type": "code",
   "execution_count": null,
   "id": "c155797e-b39b-426b-babb-2d45261bf2c8",
   "metadata": {},
   "outputs": [],
   "source": []
  },
  {
   "cell_type": "markdown",
   "id": "3b7ce94b-08cd-4271-9e09-15b7e23639a9",
   "metadata": {},
   "source": [
    "### String\n",
    "A string is a sequence of characters enclosed in either single (' ') or double (\" \") quotes. It’s immutable, meaning you can't change the original string once created."
   ]
  },
  {
   "cell_type": "code",
   "execution_count": 31,
   "id": "41ae7ceb-077f-4ba2-9c1a-0119cdfa88cf",
   "metadata": {},
   "outputs": [],
   "source": [
    "string = \"Hello, World!\"\n",
    "print(string)"
   ]
  },
  {
   "cell_type": "code",
   "execution_count": null,
   "id": "6ca14f50-1de4-4035-8922-434bf1e619ae",
   "metadata": {},
   "outputs": [],
   "source": []
  },
  {
   "cell_type": "markdown",
   "id": "814d2130-dbbd-4b7f-a725-f3678ee5be07",
   "metadata": {},
   "source": [
    "### Tuple\n",
    "A tuple is an ordered collection of items, similar to a list, but unlike lists, tuples are immutable (cannot be changed after creation).\n"
   ]
  },
  {
   "cell_type": "code",
   "execution_count": 33,
   "id": "8bd5fd75-d13f-436c-8942-59d6586bc4fa",
   "metadata": {},
   "outputs": [],
   "source": [
    "tuple = (1, 2, 3, \"apple\")\n",
    "print(tuple)"
   ]
  },
  {
   "cell_type": "code",
   "execution_count": null,
   "id": "0178f5ac-9bdb-45c1-ab9b-873ea2226b9d",
   "metadata": {},
   "outputs": [],
   "source": []
  },
  {
   "cell_type": "markdown",
   "id": "ce7664db-3f15-419b-a2e2-3e5346c120d2",
   "metadata": {},
   "source": [
    "### Numbers\n",
    "Numbers in Python can be either integers (whole numbers) or floating-point numbers (decimals). These are immutable data types.\n",
    "\n",
    "int = 10         # Integer\n",
    "float = 3.14     # Floating-point number"
   ]
  },
  {
   "cell_type": "code",
   "execution_count": 70,
   "id": "76706d4f-9d99-4416-b44a-f2d21088de6c",
   "metadata": {},
   "outputs": [],
   "source": []
  },
  {
   "cell_type": "markdown",
   "id": "a871b395-0a26-42fa-b897-b21279a38d56",
   "metadata": {},
   "source": [
    "### Dictionary\n",
    "A dictionary is an unordered collection of key-value pairs. Keys are unique and can be any immutable data type (like strings or numbers), while values can be any data type.\n"
   ]
  },
  {
   "cell_type": "code",
   "execution_count": 45,
   "id": "56dd4ea9-88c1-4800-9985-cbfb693c2e4d",
   "metadata": {},
   "outputs": [],
   "source": [
    "dictionary = {\"name\": \"John\", \"age\": 25, \"city\": \"New York\"}\n",
    "print(dictionary)"
   ]
  },
  {
   "cell_type": "code",
   "execution_count": 37,
   "id": "c07cfb8c-5d60-4ac1-b018-02ad2e5e6419",
   "metadata": {},
   "outputs": [],
   "source": [
    "# Add - is used to add a new key-value pair\n",
    "dictionary[\"school\"] = \"CodeAnt\" \n",
    "print(dictionary)"
   ]
  },
  {
   "cell_type": "code",
   "execution_count": 39,
   "id": "447fe719-1ca9-4e92-bf29-2afce171617f",
   "metadata": {},
   "outputs": [],
   "source": [
    "#Change an existing item\n",
    "dictionary[\"name\"] = \"Ebuka\" \n",
    "print(dictionary)"
   ]
  },
  {
   "cell_type": "code",
   "execution_count": 41,
   "id": "63b30137-9a8f-4133-9533-3a31282069ad",
   "metadata": {},
   "outputs": [],
   "source": [
    "# Remove an item\n",
    "del dictionary[\"age\"]\n",
    "print(dictionary)"
   ]
  },
  {
   "cell_type": "code",
   "execution_count": null,
   "id": "b695027b-9743-4f74-aac1-bf91d8072740",
   "metadata": {},
   "outputs": [],
   "source": []
  },
  {
   "cell_type": "code",
   "execution_count": null,
   "id": "e79eecca-3ef7-4adf-a88f-058c47f8d099",
   "metadata": {},
   "outputs": [],
   "source": []
  },
  {
   "cell_type": "markdown",
   "id": "a66b9935-edad-4a42-8fe3-bfb945001119",
   "metadata": {},
   "source": [
    "#### Step-by-Step with Examples"
   ]
  },
  {
   "cell_type": "code",
   "execution_count": 50,
   "id": "004d9b93-9411-494d-b5e0-228fcd2cd2c6",
   "metadata": {},
   "outputs": [],
   "source": [
    "#Numbers (Integers & Floats)\n",
    "\n",
    "#Example 1:\n",
    "#Managing daily expenses.\n",
    "\n",
    "coffee_price = 200\n",
    "daily_expenses = coffee_price * 7\n",
    "print(\"Weekly Coffee Expense:\", daily_expenses)"
   ]
  },
  {
   "cell_type": "code",
   "execution_count": 54,
   "id": "78fa2092-be9a-4e3c-9fa9-23eb790162b6",
   "metadata": {},
   "outputs": [],
   "source": [
    "#Example 2:\n",
    "#Calculating exam scores.\n",
    "\n",
    "math_score = 75\n",
    "science_score = 85\n",
    "total_score = math_score + science_score\n",
    "print(\"Total Score:\", total_score)"
   ]
  },
  {
   "cell_type": "code",
   "execution_count": 58,
   "id": "e9b7b42f-cda1-48ef-8ef0-79db7cad2754",
   "metadata": {},
   "outputs": [],
   "source": [
    "#Strings (Text Data)\n",
    "\n",
    "#Example 1:\n",
    "#Greeting users.\n",
    "\n",
    "name = \"Ahmed\"\n",
    "print(\"Hello\", name, \"Welcome to Python!\")"
   ]
  },
  {
   "cell_type": "code",
   "execution_count": 62,
   "id": "a838bd0d-3a8e-4377-8c12-57ebe81a4877",
   "metadata": {},
   "outputs": [],
   "source": [
    "#Example 2:\n",
    "#Combining strings.\n",
    "\n",
    "first_name = \"Ahmed\"\n",
    "last_name = \"Dauda\"\n",
    "\n",
    "print(\"Full Name:\", first_name + \" \" + last_name)"
   ]
  },
  {
   "cell_type": "code",
   "execution_count": 68,
   "id": "c7a37bd4-13d2-49d9-8756-e4c307c57277",
   "metadata": {},
   "outputs": [],
   "source": [
    "#Notice the difference here without (\"\")\n",
    "first_name = \"Ahmed\"\n",
    "last_name = \"Dauda\"\n",
    "\n",
    "print(\"Full Name:\", first_name + last_name)"
   ]
  },
  {
   "cell_type": "code",
   "execution_count": 76,
   "id": "d7543363-b8df-46b1-a145-09a2f38bc84e",
   "metadata": {},
   "outputs": [],
   "source": [
    "#Lists (Collections)\n",
    "\n",
    "#Example 1:\n",
    "#Shopping list.\n",
    "\n",
    "shopping_list = [\"Milk\", \"Eggs\", \"Bread\"]\n",
    "shopping_list.append(\"Butter\")\n",
    "print(\"Updated Shopping List:\", shopping_list)"
   ]
  },
  {
   "cell_type": "code",
   "execution_count": 80,
   "id": "f3e3af42-bf7f-4f88-b106-a2f39f09e8f8",
   "metadata": {},
   "outputs": [],
   "source": [
    "#Example 2:\n",
    "#Exam scores.\n",
    "\n",
    "scores = [85, 90, 78, 88]\n",
    "print(\"Top Score:\", max(scores))\n",
    "print(\"Average Score:\", sum(scores) / len(scores))\n",
    "print(\"Range:\", max(scores) - min(scores))"
   ]
  },
  {
   "cell_type": "code",
   "execution_count": 84,
   "id": "8eef9d58-a807-4559-bb64-10c40ea6e351",
   "metadata": {},
   "outputs": [],
   "source": [
    "#Example 3: Task tracker.\n",
    "\n",
    "tasks = [\"Write code\", \"Debug program\", \"Submit project\"]\n",
    "tasks.pop(0) # Pop is used remove something from a list\n",
    "print(\"Remaining Tasks:\", tasks)"
   ]
  },
  {
   "cell_type": "code",
   "execution_count": null,
   "id": "f7eccb15-25b2-45d9-863c-7afa8867d258",
   "metadata": {},
   "outputs": [],
   "source": []
  },
  {
   "cell_type": "code",
   "execution_count": null,
   "id": "83939eda-8c85-4893-b2f5-91de8065c000",
   "metadata": {},
   "outputs": [],
   "source": []
  },
  {
   "cell_type": "markdown",
   "id": "5e2727d1-3f8b-4c5b-a73e-6c69745febb5",
   "metadata": {},
   "source": [
    "#### Loops\n",
    "A loop is a way to repeat some actions again and again until a certain condition is met without repeatation of code.\n",
    "We have \n",
    "For Loops and While Loops.\n",
    "\n",
    "A for loop is used when you want to repeat something a certain number of times. \n",
    "A while loop keeps running as long as a certain condition is true."
   ]
  },
  {
   "cell_type": "code",
   "execution_count": 88,
   "id": "9e927a9a-d902-4e01-9dd8-db1448088ee9",
   "metadata": {},
   "outputs": [
    {
     "name": "stdout",
     "output_type": "stream",
     "text": [
      "Current Task: Task 1\n",
      "Current Task: Task 2\n",
      "Current Task: Task 3\n"
     ]
    }
   ],
   "source": [
    "## For Loops\n",
    "\n",
    "#Example 1\n",
    "#Printing all items in a list.\n",
    "\n",
    "tasks = [\"Task 1\", \"Task 2\", \"Task 3\"]\n",
    "\n",
    "for task in tasks:\n",
    "    print(\"Current Task:\", task)"
   ]
  },
  {
   "cell_type": "code",
   "execution_count": 135,
   "id": "4341a488-1a13-48eb-9a72-72ec9f150a1e",
   "metadata": {},
   "outputs": [
    {
     "name": "stdout",
     "output_type": "stream",
     "text": [
      "Total Expense: 100\n",
      "Total Expense: 350\n",
      "Total Expense: 650\n"
     ]
    }
   ],
   "source": [
    "#Example 2\n",
    "#Summing expenses.\n",
    "expenses = [100, 250, 300]\n",
    "total = 0\n",
    "for expense in expenses:\n",
    "    total += expense\n",
    "    print(\"Total Expense:\", total)"
   ]
  },
  {
   "cell_type": "code",
   "execution_count": 92,
   "id": "9ddb7d57-9dab-4379-895a-1f79b48a2a8f",
   "metadata": {},
   "outputs": [
    {
     "name": "stdout",
     "output_type": "stream",
     "text": [
      "5 x 1 = 5\n",
      "5 x 2 = 10\n",
      "5 x 3 = 15\n",
      "5 x 4 = 20\n",
      "5 x 5 = 25\n"
     ]
    }
   ],
   "source": [
    "#Example 3\n",
    "#Multiplication table\n",
    "\n",
    "for i in range(1,6):\n",
    "    print(f\"5 x {i} =\", 5 * i)"
   ]
  },
  {
   "cell_type": "code",
   "execution_count": 104,
   "id": "23ec6a17-eaaa-414b-8a1c-93897e65dea0",
   "metadata": {},
   "outputs": [
    {
     "name": "stdout",
     "output_type": "stream",
     "text": [
      "Countdown: 5\n",
      "Time’s up!\n",
      "Countdown: 4\n",
      "Time’s up!\n",
      "Countdown: 3\n",
      "Time’s up!\n",
      "Countdown: 2\n",
      "Time’s up!\n",
      "Countdown: 1\n",
      "Time’s up!\n"
     ]
    }
   ],
   "source": [
    "## While Loop\n",
    "\n",
    "#Example 1\n",
    "#Countdown timer\n",
    "\n",
    "count = 5\n",
    "while count > 0:\n",
    "    print(\"Countdown:\", count)\n",
    "    count -= 1\n",
    "    print(\"Time’s up!\")"
   ]
  },
  {
   "cell_type": "code",
   "execution_count": 112,
   "id": "2115a4c3-66e8-41a1-832c-1e0670bc18bd",
   "metadata": {},
   "outputs": [
    {
     "name": "stdout",
     "output_type": "stream",
     "text": [
      "2\n",
      "4\n",
      "6\n",
      "8\n",
      "10\n"
     ]
    }
   ],
   "source": [
    "#Example 2\n",
    "#Printing even numbers\n",
    "\n",
    "num = 2\n",
    "while num <= 10:\n",
    "    print(num)\n",
    "    num += 2"
   ]
  },
  {
   "cell_type": "code",
   "execution_count": null,
   "id": "f50c35cc-24b0-4650-b878-d9a7fe5b26d5",
   "metadata": {},
   "outputs": [],
   "source": []
  },
  {
   "cell_type": "code",
   "execution_count": null,
   "id": "90a81235-a8fc-46d2-8693-6ab80731c02d",
   "metadata": {},
   "outputs": [],
   "source": []
  },
  {
   "cell_type": "markdown",
   "id": "90412a4d-155d-4791-9aa9-07c1458bcb8c",
   "metadata": {},
   "source": [
    "#### Functions in Python\n",
    "A function is a block of code that only runs when you call it.\n",
    "Functions help you reuse code and make programs organized and easy to read."
   ]
  },
  {
   "cell_type": "markdown",
   "id": "2ed81fcf-393c-420d-8890-79596ff7ad48",
   "metadata": {},
   "source": [
    "##### 1. Built-in Functions\n",
    "These are functions that Python already provides. You don’t have to create them, you just call and use them."
   ]
  },
  {
   "cell_type": "code",
   "execution_count": 114,
   "id": "9b25d95a-6dd5-49fe-81e8-4600362b388b",
   "metadata": {},
   "outputs": [
    {
     "name": "stdout",
     "output_type": "stream",
     "text": [
      "5\n"
     ]
    }
   ],
   "source": [
    "#Example 1:\n",
    "#Find Length of a List\n",
    "\n",
    "list1 = [1, 2, 3, 4, 5]\n",
    "print(len(list1))"
   ]
  },
  {
   "cell_type": "code",
   "execution_count": 116,
   "id": "83650ad6-e2da-4425-a711-81c3117e5276",
   "metadata": {},
   "outputs": [
    {
     "name": "stdout",
     "output_type": "stream",
     "text": [
      "52\n"
     ]
    }
   ],
   "source": [
    "#Example 2:\n",
    "#Convert String to Integer\n",
    "\n",
    "num_str = \"42\"\n",
    "num = int(num_str)\n",
    "print(num + 10)"
   ]
  },
  {
   "cell_type": "code",
   "execution_count": 118,
   "id": "832e340f-c323-4acd-9255-01a4d80c0f5e",
   "metadata": {},
   "outputs": [
    {
     "name": "stdout",
     "output_type": "stream",
     "text": [
      "40\n"
     ]
    }
   ],
   "source": [
    "#Example 3:\n",
    "#Get Maximum Value in a List\n",
    "\n",
    "nums = [10, 20, 30, 40]\n",
    "print(max(nums))"
   ]
  },
  {
   "cell_type": "code",
   "execution_count": null,
   "id": "c38656a1-f4a8-4aa8-adb1-de4667c0e660",
   "metadata": {},
   "outputs": [],
   "source": []
  },
  {
   "cell_type": "markdown",
   "id": "f8269935-e6f1-4105-b4e9-5a057c98b512",
   "metadata": {},
   "source": [
    "##### 2. User-defined Functions\n",
    "These are functions you created yourself to do specific tasks."
   ]
  },
  {
   "cell_type": "code",
   "execution_count": 27,
   "id": "ca858dd0-7638-45d1-9474-92dbcd57ce3b",
   "metadata": {},
   "outputs": [
    {
     "name": "stdout",
     "output_type": "stream",
     "text": [
      "Area: 50\n"
     ]
    }
   ],
   "source": [
    "#Example 1:\n",
    "#Find the Area of a Rectangle.\n",
    "\n",
    "def rectangle_area(length, width):\n",
    "    area = length * width\n",
    "    return area\n",
    "print(\"Area:\", rectangle_area(10, 5))"
   ]
  },
  {
   "cell_type": "code",
   "execution_count": 122,
   "id": "ec27c12c-01ab-40e3-9e8c-5cea93c86784",
   "metadata": {},
   "outputs": [
    {
     "name": "stdout",
     "output_type": "stream",
     "text": [
      "Is Positive: True\n"
     ]
    }
   ],
   "source": [
    "#Example 2:\n",
    "#Check if a Number is Positive.\n",
    "\n",
    "def is_positive(num):\n",
    "    return num > 0\n",
    "print(\"Is Positive:\", is_positive(10))"
   ]
  },
  {
   "cell_type": "code",
   "execution_count": 31,
   "id": "f20c2e9d-a03a-4ce3-8cb7-9aaa3736a1bf",
   "metadata": {},
   "outputs": [
    {
     "name": "stdout",
     "output_type": "stream",
     "text": [
      "Seconds: 7200\n"
     ]
    }
   ],
   "source": [
    "#Example 3:\n",
    "#Convert Hours to Seconds.\n",
    "\n",
    "def hours_to_seconds(hours):\n",
    "    conversion = hours * 3600\n",
    "    return conversion\n",
    "print(\"Seconds:\",hours_to_seconds(2))"
   ]
  },
  {
   "cell_type": "code",
   "execution_count": null,
   "id": "f404b8c7-2d63-40aa-8ed5-05c8fa0b0450",
   "metadata": {},
   "outputs": [],
   "source": []
  },
  {
   "cell_type": "markdown",
   "id": "7faf2c95-8917-4175-9324-93c1dccb44b9",
   "metadata": {},
   "source": [
    "##### 3. Anonymous Functions (Lambda Functions)\n",
    "These are small, short functions that have no name. You use the keyword lambda to create them."
   ]
  },
  {
   "cell_type": "code",
   "execution_count": 33,
   "id": "d317b412-6ca8-44de-9ff1-d4a86fdb18e6",
   "metadata": {},
   "outputs": [
    {
     "name": "stdout",
     "output_type": "stream",
     "text": [
      "16\n"
     ]
    }
   ],
   "source": [
    "#Example 1:\n",
    "#Square a Number\n",
    "\n",
    "square = lambda x: x ** 2\n",
    "print(square(4))"
   ]
  },
  {
   "cell_type": "code",
   "execution_count": 35,
   "id": "eb4dd84e-3612-4ffc-8c16-a1aeffc73a54",
   "metadata": {},
   "outputs": [
    {
     "name": "stdout",
     "output_type": "stream",
     "text": [
      "12\n"
     ]
    }
   ],
   "source": [
    "#Example 2:\n",
    "#Add Two Numbers.\n",
    "\n",
    "add = lambda x, y: x + y\n",
    "print(add(5, 7))"
   ]
  },
  {
   "cell_type": "code",
   "execution_count": 37,
   "id": "6c55567f-95e1-44b3-b4dd-238a1e72b87c",
   "metadata": {},
   "outputs": [
    {
     "name": "stdout",
     "output_type": "stream",
     "text": [
      "20\n"
     ]
    }
   ],
   "source": [
    "#Example 3:\n",
    "#Find the Larger Number.\n",
    "\n",
    "larger = lambda x, y: x if x > y else y\n",
    "print(larger(10, 20))"
   ]
  },
  {
   "cell_type": "code",
   "execution_count": null,
   "id": "faeafb0f-b4eb-496b-8521-f422bfb062d7",
   "metadata": {},
   "outputs": [],
   "source": []
  },
  {
   "cell_type": "markdown",
   "id": "68640063-d6e4-4084-b558-3bdd2b3df8a7",
   "metadata": {},
   "source": [
    "##### 4. Recursive Functions\n",
    "These are functions that call themselves inside their own body.\n",
    "Useful when solving problems like factorials, trees, etc."
   ]
  },
  {
   "cell_type": "code",
   "execution_count": 129,
   "id": "9e30fecf-780b-4c64-9f1e-76309ba3fc93",
   "metadata": {},
   "outputs": [
    {
     "name": "stdout",
     "output_type": "stream",
     "text": [
      "120\n"
     ]
    }
   ],
   "source": [
    "#Example 1:\n",
    "#Find Factorial.\n",
    "\n",
    "def factorial(n):\n",
    "    if n == 0:\n",
    "            return 1\n",
    "    return n * factorial(n - 1)  \n",
    "print(factorial(5))"
   ]
  },
  {
   "cell_type": "code",
   "execution_count": 149,
   "id": "08dd29f1-d0cb-434f-86ae-96e7ca29c68e",
   "metadata": {},
   "outputs": [
    {
     "name": "stdout",
     "output_type": "stream",
     "text": [
      "5\n",
      "4\n",
      "3\n",
      "2\n",
      "1\n",
      "Blast off!\n"
     ]
    }
   ],
   "source": [
    "#Example 2:\n",
    "#Count Down to Zero.\n",
    "\n",
    "def countdown(n): \n",
    "    if n == 0:\n",
    "        print(\"Blast off!\")\n",
    "        return\n",
    "    print(n)\n",
    "    countdown(n - 1)\n",
    "\n",
    "countdown(5)"
   ]
  },
  {
   "cell_type": "code",
   "execution_count": null,
   "id": "29009fbb-aae1-4f0c-ace2-8951549b6df3",
   "metadata": {},
   "outputs": [],
   "source": []
  },
  {
   "cell_type": "markdown",
   "id": "5ef2fa09-4ddb-4685-a90f-6b060a422164",
   "metadata": {},
   "source": [
    "##### 5. Higher Order Functions\n",
    "These are functions that take another function as a parameter OR return a function."
   ]
  },
  {
   "cell_type": "code",
   "execution_count": 151,
   "id": "4b9ffbd9-49ce-4f68-a340-9ac35356eccb",
   "metadata": {},
   "outputs": [
    {
     "name": "stdout",
     "output_type": "stream",
     "text": [
      "[2, 4, 6, 8]\n"
     ]
    }
   ],
   "source": [
    "#Example 1:\n",
    "#Use map to Double Numbers.\n",
    "\n",
    "nums = [1, 2, 3, 4]\n",
    "doubled = list(map(lambda x: x * 2, nums))\n",
    "print(doubled)"
   ]
  },
  {
   "cell_type": "code",
   "execution_count": 58,
   "id": "7769147c-3dcd-4cfd-a7cf-7f57ebd9ecde",
   "metadata": {},
   "outputs": [
    {
     "name": "stdout",
     "output_type": "stream",
     "text": [
      "24\n"
     ]
    }
   ],
   "source": [
    "#Example 2:\n",
    "#Use reduce to calculate product of numbers \n",
    "\n",
    "from functools import reduce\n",
    "nums = [1, 2, 3, 4]\n",
    "product = reduce(lambda x, y: x * y, nums)\n",
    "print(product)"
   ]
  },
  {
   "cell_type": "code",
   "execution_count": null,
   "id": "ab26ec8a-4885-48cf-843b-d8c05f98fbf6",
   "metadata": {},
   "outputs": [],
   "source": []
  },
  {
   "cell_type": "markdown",
   "id": "c5624b86-3631-4134-8b07-8c4b2da977f9",
   "metadata": {},
   "source": [
    "##### 6. Generator Functions\n",
    "These are special functions that generate values one at a time using yield, not return."
   ]
  },
  {
   "cell_type": "code",
   "execution_count": 157,
   "id": "1b20d6bd-d144-4bc6-9206-cbe5e29fd6da",
   "metadata": {},
   "outputs": [
    {
     "name": "stdout",
     "output_type": "stream",
     "text": [
      "3\n",
      "2\n",
      "1\n"
     ]
    }
   ],
   "source": [
    "#Example 1:\n",
    "#Countdown Generator.\n",
    "\n",
    "def countdown(n):\n",
    "    while n > 0:\n",
    "        yield n\n",
    "        n -= 1\n",
    "for num in countdown(3):\n",
    "    print(num)"
   ]
  },
  {
   "cell_type": "code",
   "execution_count": 161,
   "id": "53fe3b69-1a56-46e1-84cb-abe9e2a26642",
   "metadata": {},
   "outputs": [
    {
     "name": "stdout",
     "output_type": "stream",
     "text": [
      "0 1 2\n"
     ]
    }
   ],
   "source": [
    "#Example 2:\n",
    "#Infinite Sequence Generator.\n",
    "\n",
    "def infinite_sequence():\n",
    "    n = 0\n",
    "    while True:\n",
    "        yield n\n",
    "        n += 1\n",
    "gen = infinite_sequence()\n",
    "print(next(gen), next(gen), next(gen))"
   ]
  },
  {
   "cell_type": "code",
   "execution_count": null,
   "id": "d82d0285-122a-4f88-8894-05fe0ae82ccd",
   "metadata": {},
   "outputs": [],
   "source": []
  },
  {
   "cell_type": "markdown",
   "id": "16301c4b-81f2-48bb-afd1-6207cb442173",
   "metadata": {},
   "source": [
    "##### 7. General Return Statement Functions\n",
    "These are normal functions that use return to send a result back."
   ]
  },
  {
   "cell_type": "code",
   "execution_count": 163,
   "id": "9a584f31-2412-48b0-8093-ad01efc0ef61",
   "metadata": {},
   "outputs": [
    {
     "name": "stdout",
     "output_type": "stream",
     "text": [
      "Percentage: 85.0\n"
     ]
    }
   ],
   "source": [
    "#Example 1:\n",
    "#Calculate Percentage\n",
    "\n",
    "def calculate_percentage(score, total):\n",
    "    return (score / total) * 100\n",
    "\n",
    "print(\"Percentage:\", calculate_percentage(85, 100))"
   ]
  },
  {
   "cell_type": "code",
   "execution_count": 165,
   "id": "df7086fb-987c-4601-b370-e29ac147e13c",
   "metadata": {},
   "outputs": [
    {
     "name": "stdout",
     "output_type": "stream",
     "text": [
      "Temperature in Fahrenheit: 86.0\n"
     ]
    }
   ],
   "source": [
    "#Example 2:\n",
    "#Convert Temperature\n",
    "\n",
    "def celsius_to_fahrenheit(celsius):\n",
    "    return (celsius * 9/5) + 32\n",
    "    \n",
    "print(\"Temperature in Fahrenheit:\", celsius_to_fahrenheit(30))"
   ]
  },
  {
   "cell_type": "code",
   "execution_count": 167,
   "id": "c61a4d61-74fa-4c4c-8c3a-e2030950e9ba",
   "metadata": {},
   "outputs": [
    {
     "name": "stdout",
     "output_type": "stream",
     "text": [
      "Hello Ahmed, Welcome to Python!\n"
     ]
    }
   ],
   "source": [
    "#Example 3:\n",
    "#Greet Users\n",
    "\n",
    "def greet_user(name):\n",
    "    return f\"Hello {name}, Welcome to Python!\"\n",
    "print(greet_user(\"Ahmed\"))"
   ]
  },
  {
   "cell_type": "code",
   "execution_count": null,
   "id": "958cd133-6139-4235-964f-b149939db960",
   "metadata": {},
   "outputs": [],
   "source": []
  },
  {
   "cell_type": "markdown",
   "id": "1878f4c4-353a-48ec-8da5-aa03ee92cbf9",
   "metadata": {},
   "source": [
    "##### Functions with Loops"
   ]
  },
  {
   "cell_type": "code",
   "execution_count": 116,
   "id": "0173d913-4ac5-4d22-9c88-aef0e56f178d",
   "metadata": {},
   "outputs": [
    {
     "name": "stdout",
     "output_type": "stream",
     "text": [
      "Even Numbers: [2, 4]\n"
     ]
    }
   ],
   "source": [
    "#Example 1:\n",
    "#Find Even Numbers in a List\n",
    "\n",
    "def find_evens(numbers):\n",
    "    return [num for num in numbers if num % 2 == 0]\n",
    "\n",
    "nums = [1, 2, 3, 4, 5]\n",
    "print(\"Even Numbers:\", find_evens(nums))"
   ]
  },
  {
   "cell_type": "code",
   "execution_count": 118,
   "id": "ed8cc2bf-34ab-4294-b84d-be1aa65b66a9",
   "metadata": {},
   "outputs": [
    {
     "name": "stdout",
     "output_type": "stream",
     "text": [
      "Doubled Numbers: [2, 4, 6, 8]\n"
     ]
    }
   ],
   "source": [
    "#Example 2:\n",
    "#Multiply All Elements in a List by 2\n",
    "\n",
    "def multiply_by_two(numbers):\n",
    "    return [num * 2 for num in numbers]\n",
    "\n",
    "nums = [1, 2, 3, 4]\n",
    "print(\"Doubled Numbers:\", multiply_by_two(nums))"
   ]
  },
  {
   "cell_type": "code",
   "execution_count": null,
   "id": "3d3bee03-120e-4b2e-8b51-cc9f5263462a",
   "metadata": {},
   "outputs": [],
   "source": []
  }
 ],
 "metadata": {
  "kernelspec": {
   "display_name": "Python 3 (ipykernel)",
   "language": "python",
   "name": "python3"
  },
  "language_info": {
   "codemirror_mode": {
    "name": "ipython",
    "version": 3
   },
   "file_extension": ".py",
   "mimetype": "text/x-python",
   "name": "python",
   "nbconvert_exporter": "python",
   "pygments_lexer": "ipython3",
   "version": "3.12.7"
  }
 },
 "nbformat": 4,
 "nbformat_minor": 5
}
